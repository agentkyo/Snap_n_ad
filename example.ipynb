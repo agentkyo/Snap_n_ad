from PIL import Image, ImageDraw, ImageFont, ImageColor
import qrcode
import requests
from io import BytesIO
from typing import Optional, Literal, Union
from enum import Enum
import re

class PixQRCodeGenerator:
    class ColorOptions(str, Enum):
        BLACK = "black"
        WHITE = "white"
        PURPLE = "purple"
        BLUE = "blue"
        RED = "red"
        GREEN = "green"
        ORANGE = "orange"
        PINK = "pink"
        BROWN = "brown"
        GRAY = "gray"

        @classmethod
        def validate(cls, color: str) -> Union[str, tuple[int, int, int]]:
            c = color.strip()
            if c.lower() in cls._value2member_map_:
                return c.lower()
            if re.fullmatch(r'#?[0-9A-Fa-f]{6}', c):
                if not c.startswith('#'):
                    c = f'#{c}'
                return ImageColor.getrgb(c)
            raise ValueError(f"Invalid color '{color}'. Use one of: {', '.join(cls._value2member_map_)} or a HEX code like '#FFA500'")

    def __init__(self, pix_code: str):
        self.pix_code = pix_code

    def _load_logo(self, source: str) -> Image.Image:
        if source.startswith(("http://", "https://")):
            resp = requests.get(source, stream=True, timeout=5)
            resp.raise_for_status()
            resp.raw.decode_content = True
            img = Image.open(resp.raw)
        else:
            img = Image.open(source)
        return img.convert("RGBA")

    def _fit_text_font(self, draw: ImageDraw.ImageDraw, text: str, max_width: int, scale: float, font_name: str = "DejaVuSans.ttf", base_size: int = 40) -> ImageFont.FreeTypeFont:
        target = int(base_size * scale)
        for size in range(target, 9, -1):
            try:
                f = ImageFont.truetype(font_name, size)
                if draw.textlength(text, font=f) <= max_width:
                    return f
            except OSError:
                pass
        return ImageFont.load_default()

    def _extract_dominant_color(self, img: Image.Image) -> tuple[int, int, int]:
        thumb = img.convert("RGB")
        thumb.thumbnail((100, 100))
        colors = thumb.getcolors(thumb.width * thumb.height)
        return max(colors, key=lambda t: t[0])[1]

    def generate_qrcode_image(
        self,
        output_path: str = "pix_qrcode.png",
        logo_path: Optional[str] = None,
        logo_url: Optional[str] = None,
        logo_position: Literal["center", "top", "bottom"] = "center",
        qr_color: str = "auto",
        background_color: str = "white",
        title: Optional[str] = None,
        message: Optional[str] = None,
        qr_box_size: int = 10,
        size: Literal["small", "medium", "large"] = "medium",
        max_logo_ratio: float = 0.25,
    ) -> None:
        logo = None
        if logo_url:
            logo = self._load_logo(logo_url)
        elif logo_path:
            logo = self._load_logo(logo_path)

        if qr_color == "auto" and logo:
            qr_fill = self._extract_dominant_color(logo)
        else:
            qr_fill = self.ColorOptions.validate(qr_color)

        bg_fill = self.ColorOptions.validate(background_color)
        scale = {"small": 0.5, "medium": 1.0, "large": 2.0}[size]
        qr = qrcode.QRCode(error_correction=qrcode.constants.ERROR_CORRECT_H, box_size=int(qr_box_size * scale), border=4)
        qr.add_data(self.pix_code)
        qr.make(fit=True)
        qr_img = qr.make_image(fill_color=qr_fill, back_color=bg_fill).convert("RGB")

        w, h = qr_img.size
        extra = int(180 * scale) if (title or message or (logo and logo_position in ["top", "bottom"])) else 0
        final = Image.new("RGB", (w, h + extra), bg_fill)
        draw = ImageDraw.Draw(final)
        y = int(10 * scale)

        if title:
            ft = self._fit_text_font(draw, title, w - 20, scale)
            tw = draw.textlength(title, font=ft)
            draw.text(((w - tw) // 2, y), title, fill=qr_fill, font=ft)
            y += ft.size + int(10 * scale)

        if logo and logo_position == "top":
            lm = logo.copy()
            lm.thumbnail((int(w * max_logo_ratio),) * 2, Image.Resampling.LANCZOS)
            final.paste(lm, ((w - lm.width) // 2, y), lm)
            y += lm.height + int(10 * scale)

        final.paste(qr_img, (0, y))
        qr_y = y
        y += h

        if logo and logo_position == "bottom":
            lm = logo.copy()
            lm.thumbnail((int(w * max_logo_ratio),) * 2, Image.Resampling.LANCZOS)
            final.paste(lm, ((w - lm.width) // 2, y + int(10 * scale)), lm)
            y += lm.height + int(10 * scale)

        if message:
            fm = self._fit_text_font(draw, message, w - 20, scale)
            mw = draw.textlength(message, font=fm)
            draw.text(((w - mw) // 2, y + int(10 * scale)), message, fill=qr_fill, font=fm)

        if logo and logo_position == "center":
            lm = logo.copy()
            lm.thumbnail((int(w * max_logo_ratio),) * 2, Image.Resampling.LANCZOS)
            final.paste(lm, ((w - lm.width) // 2, qr_y + (h - lm.height) // 2), lm)

        final.save(output_path)
        print(f"[✔] QR Code salvo em: {output_path}")
